{
 "cells": [
  {
   "cell_type": "markdown",
   "metadata": {
    "internals": {
     "slide_helper": "subslide_end",
     "slide_type": "subslide"
    },
    "slide_helper": "slide_end",
    "slideshow": {
     "slide_type": "slide"
    }
   },
   "source": [
    "### Problem 1"
   ]
  },
  {
   "cell_type": "markdown",
   "metadata": {
    "internals": {
     "slide_type": "subslide"
    },
    "slideshow": {
     "slide_type": "slide"
    }
   },
   "source": [
    "In this problem we will write a calculator with Python. We start with addition only. Go to the directory you should see an `add.py` file which contains:\n",
    "\n",
    "```python\n",
    "from sys import argv\n",
    "script, num1, num2 = argv\n",
    "print float(num1) + float(num2)\n",
    "```\n",
    "\n",
    "`argv` is a function in the module `sys`. In the terminal, one can enter and run the command:\n",
    "\n",
    ">```\n",
    "python add.py 1 3\n",
    "```\n",
    "\n",
    "\"`python`\" in the command above specifies that `add.py` executed as a Python script. Then `argv` pass (`'add.py'`, `1`, `3`) to (`script`, `num1`, `num2`), then `num1` and `num2` can be used in the script. Below, command follows `!` calls shell:"
   ]
  },
  {
   "cell_type": "code",
   "execution_count": 1,
   "metadata": {
    "collapsed": false
   },
   "outputs": [
    {
     "name": "stdout",
     "output_type": "stream",
     "text": [
      "3.0\n",
      "30.0\n",
      "37.0\n",
      "37.0\n",
      "30.0\n",
      "3.0\n"
     ]
    }
   ],
   "source": [
    "!python add.py 1 2\n",
    "!python add.py 10 20 \n",
    "!python add.py 15 22 \n",
    "!python add.py 22 15 \n",
    "!python add.py 20 10\n",
    "!python add.py 2 1  "
   ]
  },
  {
   "cell_type": "markdown",
   "metadata": {
    "internals": {},
    "slideshow": {
     "slide_type": "-"
    }
   },
   "source": [
    "Now, since a `.py` file is essentially a text file, we can run the code below to write the script into `add.py`, instead of open another editor do write it manually.\n",
    "\n",
    "> ```python\n",
    "with open('add.py', 'w') as f:\n",
    "    f.write('''from sys import argv\n",
    "script, num1, num2 = argv\n",
    "print float(num1) + float(num2)''')\n",
    "```"
   ]
  },
  {
   "cell_type": "markdown",
   "metadata": {
    "internals": {
     "slide_type": "subslide"
    },
    "slideshow": {
     "slide_type": "slide"
    }
   },
   "source": [
    "**Question**\n",
    "\n",
    "Modify the code above to write a script named 'calculator.py' which has two arguments.\n",
    "\n",
    "    - The second argument is an expression like '1+1'. \n",
    "    - The expression consist of two numbers and an operator(+, -, *, /) between the numbers.\n",
    "    - This script should return the result of the expression.\n",
    "\n",
    "Make sure the python file is save in the same directory where this ipython notebook is saved.  And also when you commit, do **NOT** include your `calculate.py` file (do not `git add` it)."
   ]
  },
  {
   "cell_type": "code",
   "execution_count": 33,
   "metadata": {
    "collapsed": false,
    "internals": {},
    "slideshow": {
     "slide_type": "-"
    }
   },
   "outputs": [],
   "source": [
    "#### Your code here\n",
    "with open('calculator.py', 'w') as f:\n",
    "    f.write('''from sys import argv\n",
    "script, num = argv\n",
    "print eval(num)''')\n",
    "\n",
    "\n"
   ]
  },
  {
   "cell_type": "markdown",
   "metadata": {
    "internals": {},
    "slideshow": {
     "slide_type": "-"
    }
   },
   "source": [
    "Here are some tests:"
   ]
  },
  {
   "cell_type": "code",
   "execution_count": 34,
   "metadata": {
    "collapsed": false,
    "internals": {
     "slide_helper": "subslide_end"
    },
    "slide_helper": "slide_end",
    "slideshow": {
     "slide_type": "-"
    }
   },
   "outputs": [
    {
     "name": "stdout",
     "output_type": "stream",
     "text": [
      "3\n",
      "30\n",
      "-7\n",
      "7\n",
      "2\n",
      "2\n"
     ]
    }
   ],
   "source": [
    "#### Test\n",
    "\n",
    "!python calculator.py 1+2\n",
    "!python calculator.py 10+20\n",
    "!python calculator.py 15-22\n",
    "!python calculator.py 22-15\n",
    "!python calculator.py 20/10\n",
    "!python calculator.py 2*1"
   ]
  },
  {
   "cell_type": "markdown",
   "metadata": {},
   "source": [
    "### Problem 2"
   ]
  },
  {
   "cell_type": "markdown",
   "metadata": {},
   "source": [
    "(1) Write a function **countString** with two arguments *raw_string* and *string_to_count*. Your function should return the number of times of *string_to_count* occurs in the the *raw_string* argument. In addition, Your function should be case insensitive. \n",
    "\n",
    "[optional hints] [count](https://docs.python.org/2/library/string.html#string.count), [split](https://docs.python.org/2/library/string.html#string.split) method or [find](https://docs.python.org/2/library/string.html#string.find) method might be useful.\n",
    "\n",
    "For example, *countString('welcome to nyc(NYC) data science academy!', 'nyc')* should return 2."
   ]
  },
  {
   "cell_type": "code",
   "execution_count": 62,
   "metadata": {
    "collapsed": false
   },
   "outputs": [],
   "source": [
    "#### Your code here\n",
    "def countString(raw_string, string_to_count):\n",
    "    x = raw_string.lower()\n",
    "    y = string_to_count.lower()\n",
    "    z = x.count(y)\n",
    "    return z\n",
    "\n"
   ]
  },
  {
   "cell_type": "code",
   "execution_count": 63,
   "metadata": {
    "collapsed": false
   },
   "outputs": [
    {
     "data": {
      "text/plain": [
       "1"
      ]
     },
     "execution_count": 63,
     "metadata": {},
     "output_type": "execute_result"
    }
   ],
   "source": [
    "countString('Welcome to nyc DATA SCIENCE ACADEMY!', 'NYC') # 1"
   ]
  },
  {
   "cell_type": "code",
   "execution_count": 64,
   "metadata": {
    "collapsed": false
   },
   "outputs": [
    {
     "data": {
      "text/plain": [
       "42"
      ]
     },
     "execution_count": 64,
     "metadata": {},
     "output_type": "execute_result"
    }
   ],
   "source": [
    "countString('welcome to nyc(NYC) data science academy!', '') # 41 and 42 are both fine.  The question tests the boundary condition for your code"
   ]
  },
  {
   "cell_type": "code",
   "execution_count": 65,
   "metadata": {
    "collapsed": false
   },
   "outputs": [
    {
     "data": {
      "text/plain": [
       "2"
      ]
     },
     "execution_count": 65,
     "metadata": {},
     "output_type": "execute_result"
    }
   ],
   "source": [
    "countString('Welcome to nyc(NYC) data science academy!', 'nyc')# 2"
   ]
  },
  {
   "cell_type": "markdown",
   "metadata": {},
   "source": [
    "### Problem 3\n",
    "[Leetcode: Reverse Words in a String](https://leetcode.com/problems/reverse-words-in-a-string/)\n",
    "\n",
    "Write a function reverseString with an argument *raw_string*.  Your function should return a new string, reverse the *raw_string* word by word.\n",
    "\n",
    "For example *reverseString(\"welcome to NYC Data Science Academy\")* should return \"Academy Science Data NYC to welcome\"."
   ]
  },
  {
   "cell_type": "code",
   "execution_count": 68,
   "metadata": {
    "collapsed": false
   },
   "outputs": [],
   "source": [
    "#### Your code here\n",
    "def reverseString(raw):\n",
    "    a = raw.split(' ')\n",
    "    temp = 0\n",
    "    for i in (0,(len(a)-1)/2):\n",
    "        temp = a[i]\n",
    "        a[i] = a[(len(a)-1) - i]\n",
    "        a[(len(a)-1) - i] = temp\n",
    "        return a\n",
    "        \n"
   ]
  },
  {
   "cell_type": "code",
   "execution_count": 30,
   "metadata": {
    "collapsed": false
   },
   "outputs": [
    {
     "data": {
      "text/plain": [
       "6"
      ]
     },
     "execution_count": 30,
     "metadata": {},
     "output_type": "execute_result"
    }
   ],
   "source": [
    "raw = \"welcome to NYC Data Science Academy\"\n",
    "j = (raw.split(' '))\n",
    "len(j)\n"
   ]
  },
  {
   "cell_type": "code",
   "execution_count": 69,
   "metadata": {
    "collapsed": false
   },
   "outputs": [
    {
     "data": {
      "text/plain": [
       "['Academy', 'to', 'NYC', 'Data', 'Science', 'welcome']"
      ]
     },
     "execution_count": 69,
     "metadata": {},
     "output_type": "execute_result"
    }
   ],
   "source": [
    "reverseString(\"welcome to NYC Data Science Academy\") # \"Academy Science Data NYC to welcome\"."
   ]
  },
  {
   "cell_type": "markdown",
   "metadata": {
    "collapsed": true
   },
   "source": [
    "### Problem 4\n",
    "\n",
    "**Scikit learn** is a popular Python package for machine learning, it also comes with data set for users to test the algorithm it provides. You might expect the \"data\" should look like a table or a data frame as in other language like R. Unfortunately this is not the case. Let's first load our favorite data set, iris:"
   ]
  },
  {
   "cell_type": "code",
   "execution_count": 47,
   "metadata": {
    "collapsed": true
   },
   "outputs": [],
   "source": [
    "from sklearn import datasets\n",
    "raw_data = datasets.load_iris()   ## We load the data and save it in \"raw_data\" variable"
   ]
  },
  {
   "cell_type": "markdown",
   "metadata": {},
   "source": [
    "Despite the type of `raw_data` can be strange:"
   ]
  },
  {
   "cell_type": "code",
   "execution_count": 48,
   "metadata": {
    "collapsed": false
   },
   "outputs": [
    {
     "data": {
      "text/plain": [
       "sklearn.datasets.base.Bunch"
      ]
     },
     "execution_count": 48,
     "metadata": {},
     "output_type": "execute_result"
    }
   ],
   "source": [
    "type(raw_data)"
   ]
  },
  {
   "cell_type": "markdown",
   "metadata": {},
   "source": [
    "It is essentially just a `dictionary`. For people who are interested, you are invited to try:\n",
    "> ```python \n",
    "help(raw_data)\n",
    "print raw_data\n",
    "```\n",
    "\n",
    "to explore this object and see why it should be a dictionary. Otherwise you can be convinced by the code below:"
   ]
  },
  {
   "cell_type": "code",
   "execution_count": 49,
   "metadata": {
    "collapsed": false
   },
   "outputs": [
    {
     "data": {
      "text/plain": [
       "True"
      ]
     },
     "execution_count": 49,
     "metadata": {},
     "output_type": "execute_result"
    }
   ],
   "source": [
    "isinstance(raw_data, dict)"
   ]
  },
  {
   "cell_type": "markdown",
   "metadata": {},
   "source": [
    "(1) Now you know that `raw_data` is a dictionary. If you are also told that there is a description of the data set recorded in `raw_data`, find it and then print it."
   ]
  },
  {
   "cell_type": "code",
   "execution_count": 52,
   "metadata": {
    "collapsed": false
   },
   "outputs": [
    {
     "name": "stdout",
     "output_type": "stream",
     "text": [
      "['target_names', 'data', 'target', 'DESCR', 'feature_names']\n"
     ]
    }
   ],
   "source": [
    "#### Your code here\n",
    "print(raw_data.keys())\n"
   ]
  },
  {
   "cell_type": "markdown",
   "metadata": {},
   "source": [
    "(2) Figure out the features used in this data set."
   ]
  },
  {
   "cell_type": "code",
   "execution_count": 50,
   "metadata": {
    "collapsed": false
   },
   "outputs": [
    {
     "name": "stdout",
     "output_type": "stream",
     "text": [
      "['sepal length (cm)', 'sepal width (cm)', 'petal length (cm)', 'petal width (cm)']\n"
     ]
    }
   ],
   "source": [
    "#### Your code here\n",
    "print(raw_data['feature_names'])"
   ]
  },
  {
   "cell_type": "markdown",
   "metadata": {},
   "source": [
    "(3) If you want to create a data frame to record the data (in Python, you can use pandas), you might want to decide the column names. Usually you don't want space in the column names, and maybe the units can be removed.\n",
    "\n",
    "Add a new key-value pairs:\n",
    "\n",
    "```python\n",
    "'column_names' : ['sepal_length', 'sepal_width','petal_length','petal_width']\n",
    "```\n",
    "\n",
    "into `raw_data`."
   ]
  },
  {
   "cell_type": "code",
   "execution_count": 56,
   "metadata": {
    "collapsed": false
   },
   "outputs": [
    {
     "name": "stdout",
     "output_type": "stream",
     "text": [
      "['sepal_length', 'sepal_width', 'petal_length', 'petal_width']\n"
     ]
    }
   ],
   "source": [
    "#### Your code here\n",
    "raw_data['column_names'] = ['sepal_length', 'sepal_width','petal_length','petal_width']\n",
    "print(raw_data['column_names'])"
   ]
  },
  {
   "cell_type": "code",
   "execution_count": null,
   "metadata": {
    "collapsed": true
   },
   "outputs": [],
   "source": []
  }
 ],
 "metadata": {
  "anaconda-cloud": {},
  "kernelspec": {
   "display_name": "Python [Root]",
   "language": "python",
   "name": "Python [Root]"
  },
  "language_info": {
   "codemirror_mode": {
    "name": "ipython",
    "version": 2
   },
   "file_extension": ".py",
   "mimetype": "text/x-python",
   "name": "python",
   "nbconvert_exporter": "python",
   "pygments_lexer": "ipython2",
   "version": "2.7.11"
  }
 },
 "nbformat": 4,
 "nbformat_minor": 0
}
